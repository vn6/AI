{
 "cells": [
  {
   "cell_type": "code",
   "execution_count": 1,
   "metadata": {},
   "outputs": [],
   "source": [
    "import numpy as np\n",
    "import math\n",
    "import random"
   ]
  },
  {
   "cell_type": "code",
   "execution_count": 2,
   "metadata": {},
   "outputs": [],
   "source": [
    "class NeuralNetwork():\n",
    "    def __init__(self, dims):\n",
    "        self.num_layers = len(dims)\n",
    "        self.layers = []\n",
    "        self.bias_layers = []\n",
    "        for l in range(self.num_layers-1):\n",
    "            self.layers += [np.zeros((dims[l], dims[l+1]))]\n",
    "            self.bias_layers += [np.ones((1, dims[l+1]))*-1]          \n",
    "        pass\n",
    "    \n",
    "    def randomize_weights(self, min=-1, max=1):\n",
    "        for l in range(len(self.layers)):\n",
    "            for r in range(len(self.layers[l])):\n",
    "                for c in range(len(self.layers[l][r])):\n",
    "                    self.layers[l][r,c] = np.random.uniform(min, max)\n",
    "            for b in range(len(self.bias_layers[l][0])):\n",
    "                self.bias_layers[l][0][b] = np.random.uniform(min, max)\n",
    "        pass\n",
    "    \n",
    "    def print_layers(self):\n",
    "        for l,b  in zip(self.layers, self.bias_layers):\n",
    "            print(\"layer\")\n",
    "            print(l)\n",
    "            print(\"bias\")\n",
    "            print(b)\n",
    "        print()"
   ]
  },
  {
   "cell_type": "code",
   "execution_count": 3,
   "metadata": {},
   "outputs": [],
   "source": [
    "def sigmoid(x,k=1):\n",
    "    return np.array([[1/(1+math.exp(-k*a)) for a in x.ravel()]])\n",
    "\n",
    "def sigmoid_deriv(x, k=1):\n",
    "    return np.array([((k*((1+math.e**(-k*a))**(-2)))*(math.e**(-k*a))) for a in x])\n",
    "\n",
    "def step(x):\n",
    "    return 1 if x>0 else 0\n",
    "\n",
    "def ws(x):\n",
    "    return np.array(x)*0.1\n",
    "\n",
    "def ws_deriv(x):\n",
    "    return 0.1"
   ]
  },
  {
   "cell_type": "code",
   "execution_count": 4,
   "metadata": {},
   "outputs": [],
   "source": [
    "def forward_propagate(NN, x, A):\n",
    "    x = np.array([x])\n",
    "    for l in range(len(NN.layers)):\n",
    "        d = x.dot(NN.layers[l]) + NN.bias_layers[l]\n",
    "        x = A(d)\n",
    "    return x\n",
    "    pass"
   ]
  },
  {
   "cell_type": "code",
   "execution_count": 5,
   "metadata": {},
   "outputs": [],
   "source": [
    "def error(NN, ts, A):\n",
    "    e = 0\n",
    "    for x,y in ts: \n",
    "        e += (y - forward_propagate(NN, x, A)[0]).sum()\n",
    "    return e\n",
    "\n",
    "def out(NN, ts, A):\n",
    "    for x,y in ts: \n",
    "        print(str(x) + \": \" + str(forward_propagate(NN, x, A)))\n",
    "    print()"
   ]
  },
  {
   "cell_type": "code",
   "execution_count": 6,
   "metadata": {
    "scrolled": true
   },
   "outputs": [],
   "source": [
    "MAX_EPOCHS = 600\n",
    "\n",
    "def backpropagate(ts, dims, A=sigmoid, A_deriv=sigmoid_deriv, lam=10):\n",
    "    NN = NeuralNetwork(dims)\n",
    "    NN.randomize_weights()\n",
    "#     NN.layers = [np.array([[2, 3], [-2, -4], [1, -1]]), np.array([[1, 2], [-2, -1]])]\n",
    "#     NN.bias_layers = [np.array([[0, 0]]), np.array([[0, 0]])]\n",
    "    w = [NN.layers[0], NN.layers[1], 0]\n",
    "    b = [0, NN.bias_layers[0], NN.bias_layers[1]]\n",
    "    n = NN.num_layers\n",
    "    a = [0, 0, 0] \n",
    "    delta = [0, 0, 0]\n",
    "    dot = [0, 0, 0]\n",
    "    \n",
    "    for e in range(MAX_EPOCHS):\n",
    "        for x,y in ts:\n",
    "            a[0] = np.array([x[:]])\n",
    "            dot[0] = np.array([x[:]])\n",
    "            for l in range(1, n):\n",
    "                dot[l] = a[l-1].dot(w[l-1]) + b[l]\n",
    "                a[l] = A(dot[l])\n",
    "            delta[n-1] = A_deriv(dot[n-1])*(y-a[n-1])\n",
    "            for l in range(n-2, 0, -1):\n",
    "                delta[l] = A_deriv(dot[l])*delta[l+1].dot(np.transpose(w[l]))\n",
    "            for l in range(n-1):\n",
    "                w[l] = w[l] + lam*np.transpose(a[l])*delta[l+1]\n",
    "                b[l+1] = b[l+1] + lam*delta[l+1]\n",
    "            NN.layers = w[:n-1]\n",
    "            NN.bias_layers = b[1:]\n",
    "        if error(NN, ts, A) == 0:\n",
    "            print(\"yay\")\n",
    "            return NN\n",
    "    return NN\n",
    "    pass\n",
    "\n",
    "# nn = backpropagate([(np.array([10, 20, 30]), np.array([2, 1]))], dims=[3, 2, 2], A=ws, A_deriv=ws_deriv, lam=100)\n",
    "# nn.print_layers()"
   ]
  },
  {
   "cell_type": "code",
   "execution_count": 7,
   "metadata": {},
   "outputs": [],
   "source": [
    "#xor\n",
    "def padbin(x, n):\n",
    "    b = str(bin(x))[2:]\n",
    "    z = ['0' for i in range(n-len(b))]\n",
    "    return ''.join(z) + b\n",
    "\n",
    "def make_ts(numbits, f):\n",
    "    ts = []\n",
    "    f = [int(i) for i in padbin(f, 2**numbits)]\n",
    "    for x in range(2**numbits):\n",
    "        val = np.array([int(i) for i in padbin(x, numbits)])\n",
    "        ts += [(val, f[x])]\n",
    "    return ts"
   ]
  },
  {
   "cell_type": "code",
   "execution_count": 8,
   "metadata": {
    "scrolled": false
   },
   "outputs": [
    {
     "name": "stdout",
     "output_type": "stream",
     "text": [
      "layer\n",
      "[[-5.29899501 -6.85029377]\n",
      " [-5.32217803 -7.1160473 ]]\n",
      "bias\n",
      "[[7.89079721 2.82322845]]\n",
      "layer\n",
      "[[ 9.47303544]\n",
      " [-9.72034597]]\n",
      "bias\n",
      "[[-4.50457192]]\n",
      "\n",
      "[0 0]: [[0.01462498]]\n",
      "[0 1]: [[0.98467867]]\n",
      "[1 0]: [[0.98429972]]\n",
      "[1 1]: [[0.01936146]]\n",
      "\n"
     ]
    }
   ],
   "source": [
    "t = make_ts(2, 6)\n",
    "nn = backpropagate(t, [2,2,1])\n",
    "nn.print_layers()\n",
    "out(nn, t, A=sigmoid)"
   ]
  }
 ],
 "metadata": {
  "kernelspec": {
   "display_name": "Python 3",
   "language": "python",
   "name": "python3"
  },
  "language_info": {
   "codemirror_mode": {
    "name": "ipython",
    "version": 3
   },
   "file_extension": ".py",
   "mimetype": "text/x-python",
   "name": "python",
   "nbconvert_exporter": "python",
   "pygments_lexer": "ipython3",
   "version": "3.6.4"
  }
 },
 "nbformat": 4,
 "nbformat_minor": 2
}
