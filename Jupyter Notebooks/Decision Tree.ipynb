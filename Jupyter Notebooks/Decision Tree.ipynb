{
 "cells": [
  {
   "cell_type": "code",
   "execution_count": 2,
   "metadata": {},
   "outputs": [],
   "source": [
    "import pandas as pd\n",
    "import math\n",
    "import random\n",
    "import matplotlib.pyplot as plt\n",
    "import collections\n",
    "\n",
    "restaurant_data = pd.read_csv(\"restaurant.csv\")\n",
    "tennis_data = pd.read_csv(\"play_tennis.csv\")\n",
    "tennis_data = tennis_data.iloc[:, 1:]\n",
    "mushroom_data = pd.read_csv(\"mushroom.csv\")\n",
    "four_data = pd.read_csv(\"connect-four.csv\")\n",
    "all_vote_data = pd.read_csv(\"house-votes-84.csv\").iloc[:, 1:]\n",
    "vote_data = pd.read_csv(\"house-votes-84.csv\").iloc[:, 1:]\n",
    "\n",
    "for f in all_vote_data.columns:\n",
    "    vote_data = vote_data[vote_data[f]!=\"?\"]\n",
    "\n",
    "vote_data_missing = all_vote_data.iloc[0:0, :]\n",
    "\n",
    "for r in all_vote_data.index:\n",
    "    if r not in vote_data.index:\n",
    "        vote_data_missing = vote_data_missing.append(all_vote_data.loc[r, :])\n",
    "        \n",
    "CURRENT_DATA = vote_data"
   ]
  },
  {
   "cell_type": "code",
   "execution_count": 3,
   "metadata": {},
   "outputs": [],
   "source": [
    "int_nodes = 0\n",
    "leaves = 0\n",
    "\n",
    "class node:\n",
    "    def __init__(self, name, ntype, h=0, inf=0, depth=0):\n",
    "        self.name = name\n",
    "        self.ntype = ntype\n",
    "        self.h = h\n",
    "        self.inf = inf\n",
    "        self.depth = depth\n",
    "        self.children = {}"
   ]
  },
  {
   "cell_type": "code",
   "execution_count": 4,
   "metadata": {},
   "outputs": [],
   "source": [
    "def entropy(data):\n",
    "    classes = {}\n",
    "    for c in data[data.columns[-1]]:\n",
    "        if c not in classes:\n",
    "            classes[c]=0\n",
    "        classes[c]+=1\n",
    "    h = 0\n",
    "    for c in classes:\n",
    "        p = classes[c]/len(data)\n",
    "        if p>0:\n",
    "            h += p*math.log(p, 2)\n",
    "    return -h"
   ]
  },
  {
   "cell_type": "code",
   "execution_count": 5,
   "metadata": {},
   "outputs": [],
   "source": [
    "def restrict(data, feature, value):\n",
    "    return data[data[feature] == value]"
   ]
  },
  {
   "cell_type": "code",
   "execution_count": 6,
   "metadata": {},
   "outputs": [],
   "source": [
    "def best_feature(data):\n",
    "    h0 = entropy(data)\n",
    "    features = {}\n",
    "    for f in data.columns[0:-1]:\n",
    "        hf = 0\n",
    "        for v in set(data[f]):\n",
    "            d2 = restrict(data, f, v)\n",
    "            pv = len(d2)/len(data)\n",
    "            hf += pv*entropy(d2)\n",
    "        Lf = h0 - hf\n",
    "        features[f] = Lf\n",
    "    f = max(features, key=lambda x: features[x])\n",
    "    return f, features[f]"
   ]
  },
  {
   "cell_type": "code",
   "execution_count": 7,
   "metadata": {},
   "outputs": [],
   "source": [
    "def decision_tree(data, depth=0):\n",
    "    global leaves\n",
    "    global int_nodes\n",
    "    if entropy(data) == 0:\n",
    "        c = data.iloc[0, -1]\n",
    "        leaf = node(c, 'l', depth=depth)\n",
    "        leaves += 1\n",
    "        return leaf\n",
    "    f, inf = best_feature(data)\n",
    "    n = node(f,'i', h=entropy(data), inf=inf, depth=depth)\n",
    "    int_nodes += 1\n",
    "    for value in set(data[f]):\n",
    "        d2 = restrict(data, f, value)\n",
    "        if d2.empty:\n",
    "            continue\n",
    "        else:\n",
    "            child = decision_tree(d2, depth+1)\n",
    "            n.children[value] = child\n",
    "    return n\n",
    "\n",
    "root = decision_tree(CURRENT_DATA)"
   ]
  },
  {
   "cell_type": "code",
   "execution_count": 8,
   "metadata": {},
   "outputs": [],
   "source": [
    "def print_tree(node, t=\"\", parent=None):\n",
    "    if node.ntype == 'l':\n",
    "        return \"-->\" + str(node.name) + \" (info gain=\" + str(parent.h) + \")\\n\" \n",
    "    else:\n",
    "        s = t + \"* \" + node.name + \"? (info gain=\" + str(node.inf) + \")\\n\"\n",
    "        t += \"  \"\n",
    "        for val in node.children:\n",
    "            s += t + \"* \" + val\n",
    "            child = node.children[val]\n",
    "            if child.ntype == \"i\":\n",
    "                s += \"\\n\" \n",
    "            s += print_tree(child, t + \"  \", parent=node)\n",
    "        return s\n",
    "# print(print_tree(root))"
   ]
  },
  {
   "cell_type": "code",
   "execution_count": 9,
   "metadata": {},
   "outputs": [],
   "source": [
    "def classify_row(row_num, data, node):\n",
    "    while node.ntype != 'l':\n",
    "        val = data.loc[row_num, node.name]\n",
    "        node = node.children[val]\n",
    "    return node.name\n",
    "\n",
    "def classify(data, node):\n",
    "    for r in data.index:\n",
    "        print(str(r) + \"-->\" + classify_row(r, data, node))\n",
    "        \n",
    "def class_miss_helper(row_num, data, node):\n",
    "    if node.ntype == 'l':\n",
    "        return [node.name]\n",
    "    \n",
    "    val = data.loc[row_num, node.name]\n",
    "    res = []\n",
    "    if val == '?':\n",
    "        for val in node.children:\n",
    "            res += class_miss_helper(row_num, data, node.children[val])\n",
    "    else:\n",
    "        res += class_miss_helper(row_num, data, node.children[val])\n",
    "    return res\n",
    "\n",
    "def classify_missing(row_num, data, node):\n",
    "    res = class_miss_helper(row_num, data, node)\n",
    "    return random.choice(res)\n",
    "\n",
    "def accuracy(data, node):\n",
    "    correct = 0\n",
    "    total = 0\n",
    "    res = data.columns[-1]\n",
    "    for r in data.index:\n",
    "        if classify_missing(r, data, node) == data.loc[r, res]:\n",
    "            correct += 1\n",
    "        total += 1\n",
    "    return correct/total\n",
    "\n",
    "# accuracy(all_vote_data, root)"
   ]
  },
  {
   "cell_type": "code",
   "execution_count": 10,
   "metadata": {},
   "outputs": [],
   "source": [
    "def node_count(node):\n",
    "    nodes = 1\n",
    "    if node.ntype == 'i':\n",
    "        for v in node.children:\n",
    "            nodes += node_count(node.children[v])\n",
    "    return nodes\n",
    "\n",
    "def paths(node):\n",
    "    if node.ntype == 'i':\n",
    "        path_len = 0\n",
    "        for v in node.children:\n",
    "            path_len += paths(node.children[v])\n",
    "        return path_len\n",
    "    else:\n",
    "        return node.depth\n",
    "        \n",
    "def avg_path(node):\n",
    "    return paths(node)/leaves\n",
    "\n",
    "# avg_path(root)"
   ]
  },
  {
   "cell_type": "code",
   "execution_count": 11,
   "metadata": {
    "scrolled": false
   },
   "outputs": [],
   "source": [
    "def plot(data, node):\n",
    "    x = []\n",
    "    y = []\n",
    "    for r in range(1, len(data.index)-50):\n",
    "        test_sample = sorted(random.sample(list(data.index), 50))\n",
    "        train_data = data.loc[:, :]\n",
    "        test_data = data.loc[test_sample[0]:test_sample[0], :]\n",
    "        train_data = train_data.drop(test_sample[0])\n",
    "        for n in test_sample[1:]:\n",
    "            test_data = test_data.append(data.loc[n, :])\n",
    "            train_data = train_data.drop(n)\n",
    "        i = int(random.random()*(len(train_data.index)-r))\n",
    "        train_data = train_data.iloc[i:i+r, :]\n",
    "        t = decision_tree(train_data)\n",
    "        a = accuracy(test_data, t)\n",
    "        x+=[r]\n",
    "        y+=[a]\n",
    "    plt.plot(x, y)\n",
    "    plt.xlabel('plot size')\n",
    "    plt.ylabel('accuracy')\n",
    "    plt.show()\n",
    "\n",
    "# plot(CURRENT_DATA, root)"
   ]
  },
  {
   "cell_type": "code",
   "execution_count": 12,
   "metadata": {},
   "outputs": [],
   "source": [
    "def plot_missing(test_data, train_data, node):\n",
    "    x = []\n",
    "    y = []\n",
    "    for r in range(5, 182, 2):\n",
    "        a = 0\n",
    "        for i in range(10):\n",
    "            test_i = int(random.random()*(len(test_data.index)-50))\n",
    "            train_i = int(random.random()*(len(train_data.index)-r))\n",
    "            test = test_data.iloc[test_i:test_i+50, :]\n",
    "            train = train_data.iloc[train_i:train_i+r, :]\n",
    "            t = decision_tree(train)\n",
    "            a += accuracy(test, t)\n",
    "        x+=[r]\n",
    "        y+=[a/10]\n",
    "        # print(y)\n",
    "    plt.plot(x, y)\n",
    "    plt.xlabel('plot size')\n",
    "    plt.ylabel('accuracy')\n",
    "    plt.show()\n",
    "\n",
    "# plot_missing(vote_data_missing, vote_data, root)"
   ]
  },
  {
   "cell_type": "code",
   "execution_count": 13,
   "metadata": {},
   "outputs": [
    {
     "data": {
      "image/png": "[encoded data removed]",
      "text/plain": [
       "<matplotlib.figure.Figure at 0x17d49089588>"
      ]
     },
     "metadata": {},
     "output_type": "display_data"
    }
   ],
   "source": [
    "def make_table(n):\n",
    "    cols = []\n",
    "    for c in range(n):\n",
    "        cols += ['c'+str(c)]\n",
    "    cols += ['res']\n",
    "    table = pd.DataFrame(index=range(2**n), columns=cols)\n",
    "    values = table_vals(n, vals=[])\n",
    "    for x in range(len(table.index)):\n",
    "        for c in range(n):\n",
    "            table.iat[x, c] = values[x][c]\n",
    "        table.iat[x, -1] = values[x].count('1')\n",
    "    return table\n",
    "    \n",
    "def table_vals(n, d=\"\", vals=[]):\n",
    "    if len(d)==n:\n",
    "        vals += [d]\n",
    "        return vals\n",
    "    table_vals(n, d + '0', vals)\n",
    "    table_vals(n, d + '1', vals)\n",
    "    return vals\n",
    "\n",
    "def plot_tree_growth():\n",
    "    x = []\n",
    "    y = []\n",
    "    for i in range(3, 11):\n",
    "        t = decision_tree(make_table(i))\n",
    "        n = node_count(t)\n",
    "        x += [i]\n",
    "        y += [n]\n",
    "    plt.plot(x, y)\n",
    "    plt.xlabel('n')\n",
    "    plt.ylabel('tree size')\n",
    "    plt.show()\n",
    "\n",
    "plot_tree_growth()"
   ]
  },
  {
   "cell_type": "code",
   "execution_count": 15,
   "metadata": {},
   "outputs": [
    {
     "name": "stdout",
     "output_type": "stream",
     "text": [
      "* c0? (info gain=0.3112781244591327)\n",
      "  * 0\n",
      "    * c1? (info gain=0.5)\n",
      "      * 0\n",
      "        * c2? (info gain=1.0)\n",
      "          * 0-->0 (info gain=1.0)\n",
      "          * 1-->1 (info gain=1.0)\n",
      "      * 1\n",
      "        * c2? (info gain=1.0)\n",
      "          * 0-->1 (info gain=1.0)\n",
      "          * 1-->2 (info gain=1.0)\n",
      "  * 1\n",
      "    * c1? (info gain=0.5)\n",
      "      * 0\n",
      "        * c2? (info gain=1.0)\n",
      "          * 0-->1 (info gain=1.0)\n",
      "          * 1-->2 (info gain=1.0)\n",
      "      * 1\n",
      "        * c2? (info gain=1.0)\n",
      "          * 0-->2 (info gain=1.0)\n",
      "          * 1-->3 (info gain=1.0)\n",
      "\n",
      "15\n"
     ]
    }
   ],
   "source": [
    "t = decision_tree(make_table(3))\n",
    "print(print_tree(t))\n",
    "print(node_count(t))"
   ]
  }
 ],
 "metadata": {
  "kernelspec": {
   "display_name": "Python 3",
   "language": "python",
   "name": "python3"
  },
  "language_info": {
   "codemirror_mode": {
    "name": "ipython",
    "version": 3
   },
   "file_extension": ".py",
   "mimetype": "text/x-python",
   "name": "python",
   "nbconvert_exporter": "python",
   "pygments_lexer": "ipython3",
   "version": "3.6.4"
  }
 },
 "nbformat": 4,
 "nbformat_minor": 2
}
