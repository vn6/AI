{
 "cells": [
  {
   "cell_type": "code",
   "execution_count": 2,
   "metadata": {},
   "outputs": [],
   "source": [
    "import pygraphviz as pgv\n",
    "\n",
    "G = pgv.AGraph(directed=True)\n",
    "G.add_node(1, label=\"Patrons\")\n",
    "G.add_node(2, label=\"Wait Time\")\n",
    "G.add_node(3, label=\"Type\")\n",
    "G.add_node(4, label=\"Price\")\n",
    "\n",
    "G.add_node(51, label=\"Yes\")\n",
    "G.add_node(52, label=\"Yes\")\n",
    "G.add_node(53, label=\"Yes\")\n",
    "G.add_node(54, label=\"Yes\")\n",
    "\n",
    "G.add_node(61, label=\"No\")\n",
    "G.add_node(62, label=\"No\")\n",
    "G.add_node(63, label=\"No\")\n",
    "G.add_node(64, label=\"No\")\n",
    "\n",
    "\n",
    "G.add_edge(1, 61, label=\"None\")\n",
    "G.add_edge(1, 51, label=\"Some\")\n",
    "G.add_edge(1, 2, label=\"Full\")\n",
    "\n",
    "G.add_edge(2, 52, label=\"0-10\")\n",
    "G.add_edge(2, 4, label=\"10-30\")\n",
    "G.add_edge(2, 3, label=\"30-60\")\n",
    "G.add_edge(2, 62, label=\">60\")\n",
    "\n",
    "G.add_edge(3, 53, label=\"Burger\")\n",
    "G.add_edge(3, 63, label=\"Other\")\n",
    "\n",
    "G.add_edge(4, 54, label=\"$\")\n",
    "G.add_edge(4, 64, label=\">$$\")\n",
    "\n",
    "G.layout(prog=\"dot\")\n",
    "G.draw(\"tree.png\")"
   ]
  }
 ],
 "metadata": {
  "kernelspec": {
   "display_name": "Python 3",
   "language": "python",
   "name": "python3"
  },
  "language_info": {
   "codemirror_mode": {
    "name": "ipython",
    "version": 3
   },
   "file_extension": ".py",
   "mimetype": "text/x-python",
   "name": "python",
   "nbconvert_exporter": "python",
   "pygments_lexer": "ipython3",
   "version": "3.5.2"
  }
 },
 "nbformat": 4,
 "nbformat_minor": 2
}
