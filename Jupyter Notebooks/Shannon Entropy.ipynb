{
 "cells": [
  {
   "cell_type": "code",
   "execution_count": 4,
   "metadata": {},
   "outputs": [],
   "source": [
    "import pandas as pd\n",
    "import math\n",
    "\n",
    "restaurant_data = pd.read_csv(\"restaurant.csv\")\n",
    "tennis_data = pd.read_csv(\"play_tennis.csv\")"
   ]
  },
  {
   "cell_type": "code",
   "execution_count": 5,
   "metadata": {},
   "outputs": [],
   "source": [
    "def entropy(probs):\n",
    "    h = 0.0\n",
    "    for p in probs:\n",
    "        if p != 0:\n",
    "            h -= p*math.log(p, 2)\n",
    "    return h"
   ]
  },
  {
   "cell_type": "code",
   "execution_count": 8,
   "metadata": {},
   "outputs": [],
   "source": [
    "def info(data, col_name):\n",
    "    col = data[col_name]\n",
    "    res = data.iloc[:,-1]\n",
    "    pos_res = {}\n",
    "    for r in res:\n",
    "        if r not in pos_res:\n",
    "            pos_res[r] = len(pos_res)\n",
    "    att_res = {}\n",
    "    att_count = {}\n",
    "    for x in range(len(col)):\n",
    "        att = col[x]\n",
    "        if att not in att_res:\n",
    "            att_res[att] = [0]*len(pos_res)\n",
    "            att_count[att] = 0\n",
    "        att_res[att][pos_res[res[x]]]+=1\n",
    "        att_count[att]+=1\n",
    "    info = 0.0\n",
    "    for a in att_res:\n",
    "        p = att_count[a]/len(col)\n",
    "        probs = []\n",
    "        for x in range(len(pos_res)):\n",
    "            probs += [att_res[a][x]/att_count[a]]\n",
    "        info += p*entropy(probs)\n",
    "    return info"
   ]
  },
  {
   "cell_type": "code",
   "execution_count": 9,
   "metadata": {},
   "outputs": [
    {
     "name": "stdout",
     "output_type": "stream",
     "text": [
      "Day: 0.0\n",
      "Outlook: 0.6935361388961918\n",
      "Humidity: 0.7884504573082896\n",
      "Wind: 0.8921589282623617\n",
      "Temp: 0.9110633930116763\n"
     ]
    }
   ],
   "source": [
    "def all_info(data):\n",
    "    cols = data.columns\n",
    "    inf = {}\n",
    "    for col in cols[:-1]:\n",
    "        inf[col] = info(data, col)\n",
    "    return inf, sorted(inf, key=lambda x: inf[x])\n",
    "\n",
    "def print_info(data):\n",
    "    inf, order = all_info(data)\n",
    "    for key in order:\n",
    "        print(key + \": \" + str(inf[key]))\n",
    "        \n",
    "print_info(tennis_data)"
   ]
  }
 ],
 "metadata": {
  "kernelspec": {
   "display_name": "Python 3",
   "language": "python",
   "name": "python3"
  },
  "language_info": {
   "codemirror_mode": {
    "name": "ipython",
    "version": 3
   },
   "file_extension": ".py",
   "mimetype": "text/x-python",
   "name": "python",
   "nbconvert_exporter": "python",
   "pygments_lexer": "ipython3",
   "version": "3.6.4"
  }
 },
 "nbformat": 4,
 "nbformat_minor": 2
}
