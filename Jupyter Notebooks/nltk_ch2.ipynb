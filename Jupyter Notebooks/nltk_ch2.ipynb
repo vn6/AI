{
 "cells": [
  {
   "cell_type": "code",
   "execution_count": 3,
   "metadata": {},
   "outputs": [
    {
     "name": "stdout",
     "output_type": "stream",
     "text": [
      "Displaying 25 of 131 matches:\n",
      " her many enjoyments . The danger , however , was at present so unperceived , t\n",
      "ion would offend . Miss Churchill , however , being of age , and with the full \n",
      "n . From the expense of the child , however , he was soon relieved . The boy ha\n",
      " -- and been very well brought up . However , I do not mean to set up my opinio\n",
      "f and predict . It was not likely , however , that any body should have equalle\n",
      "to be borne . We will not despair , however . Weston may grow cross from the wa\n",
      "is so very handsome and agreeable . However , I do really think Mr . Martin a v\n",
      " accepted after all . This letter , however , was written , and sealed , and se\n",
      "e him .\" \" And if I did , ( which , however , I am far from allowing ) I should\n",
      " slightingly . Waiving that point , however , and supposing her to be , as you \n",
      "e was not so materially cast down , however , but that a little time and the re\n",
      "ld inspire him .\" The very next day however produced some proof of inspiration \n",
      "and staid to look through herself ; however , she called me back presently , an\n",
      "t turn up . His ostensible reason , however , was to ask whether Mr . Woodhouse\n",
      "l and cross . This does not apply , however , to Miss Bates ; she is only too g\n",
      "and sufferings of the poor family , however , were the first subject on meeting\n",
      "ting for her . She gained on them , however , involuntarily : the child ' s pac\n",
      "ould close it . It was not closed , however , it still remained ajar ; but by e\n",
      " believes himself secure .\" Still , however , though every thing had not been a\n",
      "ght advance rapidly if they would , however ; they must advance somehow or othe\n",
      " offence came not . The beginning , however , of every visit displayed none but\n",
      "eed !-- and my memory is very bad . However , it was an exceeding good , pretty\n",
      "first day . Emma ' s sense of right however had decided it ; and besides the co\n",
      "le fatigued . I could have wished , however , as you know , that you had seen M\n",
      "\" Our little friend Harriet Smith , however , is just such another pretty kind \n",
      "Displaying 25 of 89 matches:\n",
      "onceited , silly father . She had , however , one very intimate friend , a sens\n",
      "early custom . But these measures , however good in themselves , were insuffici\n",
      "ellynch Hall was to be let . This , however , was a profound secret , not to be\n",
      "t immediate neighbourhood , which , however , had not suited him ; that acciden\n",
      "e dues of a tenant . It succeeded , however ; and though Sir Walter must ever l\n",
      "h , the former curate of Monkford , however suspicious appearances may be , but\n",
      "good character and appearance ; and however Lady Russell might have asked yet f\n",
      "siness no evil . She was assisted , however , by that perfect indifference and \n",
      "h the others . Something occurred , however , to give her a different duty . Ma\n",
      " , but can never alter plain ones . However , at any rate , as I have a great d\n",
      "l what is due to you as my sister . However , we may as well go and sit with th\n",
      "o means of her going . She wished , however to see the Crofts , and was glad to\n",
      "ithout any approach to coarseness , however , or any want of good humour . Anne\n",
      "ll be in question . She could not , however , reach such a degree of certainty \n",
      "al to Anne ' s nerves . She found , however , that it was one to which she must\n",
      "re gone , she hoped , to be happy , however oddly constructed such happiness mi\n",
      "once more in the same room . Soon , however , she began to reason with herself \n",
      " ! It would be but a new creation , however , and I never think much of your ne\n",
      "rove of Uppercross .\" Her husband , however , would not agree with her here ; f\n",
      "re presently .\" Captain Wentworth , however , came from his window , apparently\n",
      "d Walter stir . In another moment , however , she found herself in the state of\n",
      " at once . After a short struggle , however , Charles Hayter seemed to quit the\n",
      "rything being to be done together , however undesired and inconvenient . She tr\n",
      " , nobody answered her . Winthrop , however , or its environs -- for young men \n",
      "fore they were beyond her hearing , however , Louisa spoke again . \" Mary is go\n",
      "Displaying 25 of 155 matches:\n",
      "hters . He meant not to be unkind , however , and , as a mark of his affection \n",
      "e condition of visitors . As such , however , they were treated by her with qui\n",
      "le .\" His wife hesitated a little , however , in giving her consent to this pla\n",
      "urned Mrs . John Dashwood . \" But , however , ONE thing must be considered . Wh\n",
      " can ever afford to live in . But , however , so it is . Your father thought on\n",
      "ce inquiry or remark . Conversation however was not wanted , for Sir John was v\n",
      "sary to the happiness of both ; for however dissimilar in temper and outward be\n",
      "al engagements at home and abroad , however , supplied all the deficiencies of \n",
      "s silent and grave . His appearance however was not unpleasing , in spite of hi\n",
      "n their own house . One consolation however remained for them , to which the ex\n",
      " in the country ? That is good news however ; I will ride over tomorrow , and a\n",
      " ever so rich . I am glad to find , however , from what you say , that he is a \n",
      "t to the excellence of such works , however disregarded before . Their taste wa\n",
      "ly excited by her sister ; and that however a general resemblance of dispositio\n",
      "d Marianne . \" Do not boast of it , however ,\" said Elinor , \" for it is injust\n",
      "t will be any satisfaction to you , however , to be told , that I believe his c\n",
      "wo wives , I know not . A few years however will settle her opinions on the rea\n",
      "n his side impossible . His concern however was very apparent ; and after expre\n",
      "d her husband and mother . The idea however started by her , was immediately pu\n",
      " are determined on anything . But , however , I hope you will think better of i\n",
      " I can guess what his business is , however ,\" said Mrs . Jennings exultingly .\n",
      "o unfortunate an event ; concluding however by observing , that as they were al\n",
      "r . Willoughby .\" \" Mr . Willoughby however is the only person who can have a r\n",
      "sed in him . There is great truth , however , in what you have now urged of the\n",
      "iced by him .\" \" Do not blame him , however , for departing from his character \n",
      "No matches\n",
      "No matches\n",
      "Displaying 5 of 5 matches:\n",
      "Tiger , \" and I shall eat you up .\" However , the Brahmin argued so hard that a\n",
      "ait . At last he did persuade him , however , and they walked on together . And\n",
      "as slower than he . After a while , however , he pushed his way out of the wood\n",
      "t he could do nothing . Presently , however , a happy fancy came to him . Was n\n",
      "ellow merely apes and imitates ME . However , it is some small consolation to r\n",
      "Displaying 1 of 1 matches:\n",
      "ound to overhear . It ' s a habit . However , it isn ' t a bad habit unless it \n",
      "Displaying 20 of 20 matches:\n",
      "ate it would not open any of them . However , on the second time round , she ca\n",
      "sagree with you , sooner or later . However , this bottle was NOT marked ' pois\n",
      "r into that lovely garden . First , however , she waited for a few minutes to s\n",
      " never get to twenty at that rate ! However , the Multiplication Table doesn ' \n",
      "nd behind them a railway station .) However , she soon made out that she was in\n",
      "ILL be a queer thing , to be sure ! However , everything is queer to - day .' J\n",
      "sy to know when the race was over . However , when they had been running half a\n",
      " and had to be patted on the back . However , it was over at last , and they sa\n",
      "ow - spirited . In a little while , however , she again heard a little patterin\n",
      "nd this a very difficult question . However , at last she stretched her arms ro\n",
      "o be , from one minute to another ! However , I ' ve got back to my right size \n",
      "ow whether it would like the name : however , it only grinned a little wider . \n",
      "n ' t think that proved it at all ; however , she went on ' And how do you know\n",
      " !' said the Dormouse indignantly . However , he consented to go on . ' And so \n",
      " , tumbling up against each other ; however , they got settled down in a minute\n",
      "k of it at all ,' said the King : ' however , it may kiss my hand if it likes .\n",
      "t was an uncomfortably sharp chin . However , she did not like to be rude , so \n",
      "e , and were resting in the shade : however , the moment they saw her , they hu\n",
      "ght as well be at school at once .' However , she got up , and began to repeat \n",
      "age knew the meaning of it at all . However , ' jury - men ' would have done ju\n"
     ]
    },
    {
     "name": "stdout",
     "output_type": "stream",
     "text": [
      "Displaying 25 of 35 matches:\n",
      "siderably improved it . There was , however , another man on board , so to spea\n",
      "in our Western civilization , had , however , as I have said , made himself qui\n",
      "downstairs . Michael followed him , however , if only out of politeness , down \n",
      "iasts . They were more respectful , however , to the young man who had smashed \n",
      "ular business . It may be excused , however , as a mere preliminary to further \n",
      "as rubbish . In case of accidents , however , I must bind you over to keep the \n",
      "l . When the cabman saw his fares , however , two wild - haired men in their sh\n",
      "an only represent what is unusual . However democratic they may be , they are o\n",
      "ifference ,\" said Turnbull , \" that however elaborate be the calculations of ph\n",
      "ways admired the Catholic virtues , however little it can practise them ; and o\n",
      "but echoing violence . The fourth , however , had already advanced on the chauf\n",
      "ow glorious !\" said MacIan . When , however , they had come into the wide hollo\n",
      "nt or two of desperate clambering , however , there were two people in it , Mr \n",
      "empty fishing - boat he recovered , however , stirred , stretched himself , and\n",
      "d . Caught upon its prickly angle , however , there was a very small and very d\n",
      " had not touched each other twice , however , when upon the hill , above the cr\n",
      "erted hill in France . He did not , however , have to puzzle long . Before the \n",
      " to be morally a lazy one . It is , however , certain that the work of her hous\n",
      "t she ever spoke . He haunted her , however ; especially at church , which was \n",
      "f her . In a clearing of the wood , however , which was lit up with a last patc\n",
      " the children make . In one place , however , the coast offered a soft , smooth\n",
      "ite hastily . Before he descended , however , he fixed the two swords upright ,\n",
      "irst sign of life that he did see , however , was something more extraordinary \n",
      "t the sky . Even at that distance , however , there was something odd about his\n",
      "grass . They had no easy business , however ; for the bottle which they had so \n",
      "Displaying 22 of 22 matches:\n",
      " around the room told him at once , however , that the English party had not de\n",
      " headlands like a lasso . And yet , however high they went , the desert still b\n",
      "e Cato .\" The King of Thieves was , however , continuing his address with the s\n",
      "rself ; go on .\" \" All my riddles , however , revolve round our bandit chief ,\"\n",
      " To their party throughout Europe , however , Paul Hirsch was a saint of scienc\n",
      "inary French officer . His French , however , was obviously that of a native ; \n",
      "inkling , twilit trees . The Duke , however stimulated , had the instincts of a\n",
      "ual coolness and confidence . Not , however , with equal speed ; but the man wh\n",
      "jealousy . In about half a minute , however , the inner door opened , and she e\n",
      "n Noah out of an ark . He did not , however , seem conscious of any contrast , \n",
      " distinctly ?\" Sir Wilson Seymour , however moved , had his excellent brains in\n",
      "ent . The unfortunate officer had , however , been hurled from the high wall , \n",
      "nd - dunes . Mere figure and gait , however distant , are more likely to remind\n",
      "e of a family lawyer . His lawyer , however , had the sense to cheat honestly ,\n",
      "n . About this particular evening , however , there was something exceptional .\n",
      "enough for the priest to see that , however old - fashioned , it was a comforta\n",
      "ty mug of the pantomime . In this , however , they were not altogether confirme\n",
      " tumbler of cold water . His talk , however , was exuberant . \" I ' ll tell you\n",
      " did a bit more hustling .\" Those , however , who mock American journalism from\n",
      "he name on the narrow wooden gate , however , and seeing by his watch that the \n",
      "over that -- that bloody collapse . However , the main point is that before hel\n",
      "iasm in her family . All the same , however romantic you are , you can ' t imag\n",
      "Displaying 25 of 27 matches:\n",
      "m within this almost saintly oval , however , his face projected suddenly broad\n",
      "ttle man with the black beard was , however , still contracted with something l\n",
      "rd . By the sheer rush of routine , however , the motion would have been put an\n",
      "retary said -- \" We are wandering , however , from the point . The only questio\n",
      " wax lady in evening dress . Snow , however , began to thicken and fall fast ; \n",
      "y or trance . He was not inclined , however , to feel in this case any very com\n",
      ". Somewhere behind Red Lion Court , however , he noticed a place where some ene\n",
      "ouched his milk . One possibility , however , kept him hopeful and yet helpless\n",
      "his satellites , that their faces , however fierce or sinister , became gradual\n",
      "ow . Before I could fully recover , however , two or three of these admirers ra\n",
      "cks during the conversation , which however unobtrusively performed --\" \" Syme \n",
      " simplicity , \" go to bed !\" Syme , however , sat up in bed for a considerable \n",
      ", if we are to act on it . I will , however , relate the occurrence in detail ,\n",
      "rst considerable hurt . Dr . Bull , however , having been carefully coached by \n",
      " . At the end of the four minutes , however , they saw that the Colonel was rig\n",
      " of Attila . Swiftly as they rode , however , the whole rank still kept well to\n",
      "he had three motor - cars . These , however , he seemed to use very sparingly ,\n",
      " the hostility of the place . Now , however , the windows in the houses began o\n",
      ", \" might even call it unpleasant . However , I suppose those lights out in the\n",
      "h the pier . Two or three figures , however , stood on the beginning of the sto\n",
      "ondon . Twenty minutes afterwards , however , he came back and made quite a cla\n",
      "d not see . Before the three cabs , however , could reach up to the spot , he h\n",
      " before they came to Baker Street , however , he was seen to throw something fa\n",
      "e a bulky parcel . On examination , however , its bulk was found to consist of \n",
      "eation of the sun and moon . Here , however , they reckoned from a Christian Su\n",
      "Displaying 25 of 72 matches:\n",
      "t them finished fast enough . She , however , in the midst of her hurry , found\n",
      "T WOULD PAY FOR ALL . Goody Grope , however , reached her sixtieth year , witho\n",
      "words she would say . Jem was not , however , a boy to be easily discouraged ; \n",
      "ce grew every day worse and worse . However , some of the neighbours said that \n",
      "ad time enough to sell them . Now , however , he set about the task ; and havin\n",
      "lf the morning was lost . At last , however , finding himself the master of thr\n",
      " a scheme for making mats , which , however bold it may appear , he did not des\n",
      "of fruitless attempts . The sixth , however , repaid him for the labours of the\n",
      "' em RIGHTLY .\" Everybody thought , however , that they had been thanked RIGHTL\n",
      "in the house . We shall pass over , however important as they were deemed at th\n",
      "n . She smothered her displeasure , however , till night ; when , as she attend\n",
      "val the admiration of the kitchen . However , upon calling to mind all that his\n",
      "nce . The hour of retribution was , however , not so far off as Felix imagined \n",
      "beef in the basket ; not entirely , however , with the same success ; for Felix\n",
      "re drinking in the room . The men , however , took part with Corkscrew , and , \n",
      "e talked in that manner . Nothing , however , that he could urge made any impre\n",
      "s he could invent . Mrs . Pomfret , however , though sometimes blinded by her p\n",
      "thout meaning to tell a falsehood , however ,\" said the lady , \" he might make \n",
      "was not robust . She earned money , however , by taking in plain work ; and she\n",
      "r which had been prepared for him ; however , with a faint smile , he told Susa\n",
      "twinkling away a tear . When Rose , however , learnt that her friend ' s guinea\n",
      "s own cottage with resolute steps , however , and went through the village in s\n",
      " than a downright simpleton . But , however , simple or not , I ' ll get what I\n",
      "usiness . He constantly perceived , however , that he could not impose upon Sir\n",
      "\" said Susan , steadily . As soon , however , as her persecutor turned his back\n",
      "Displaying 25 of 95 matches:\n",
      "gledy - piggledy whale statements , however authentic , in these extracts , for\n",
      "lave ? Tell me that . Well , then , however the old sea - captains may order me\n",
      "ea - captains may order me about -- however they may thump and punch me about ,\n",
      " needs be the sign of \" The Trap .\" However , I picked myself up and hearing a \n",
      " the conclusion that such an idea , however wild , might not be altogether unwa\n",
      " most obstreperously . I observed , however , that one of them held somewhat al\n",
      "ade on the sea . In a few minutes , however , he was missed by his shipmates , \n",
      "bag ' s mouth . This accomplished , however , he turned round -- when , good he\n",
      "te man into a purplish yellow one . However , I had never been in the South Sea\n",
      "tle in the matter of my bedfellow . However , a good laugh is a mighty good thi\n",
      "ight of the water it had absorbed . However , hat and coat and overshoes were o\n",
      "pulpit , it had not escaped me that however convenient for a ship , these joint\n",
      "lf baptized again . For the nonce , however , he proposed to sail about , and s\n",
      " own and comrade ' s bill ; using , however , my comrade ' s money . The grinni\n",
      "in to say it was on the starboard . However , by dint of beating about a little\n",
      "a supper for us both on one clam ?\" However , a warm savory steam from the kitc\n",
      " owners till all is ready for sea . However , it is always as well to have a lo\n",
      "fectly as he was known to me then . However , my thoughts were at length carrie\n",
      " I got down our traps , resolving , however , to sleep ashore till the last . B\n",
      " em !\" \" No need of profane words , however great the hurry , Peleg ,\" said Bil\n",
      "a pilot . I was comforting myself , however , with the thought that in pious Bi\n",
      "isely -- who knows ? Certain I am , however , that a king ' s head is solemnly \n",
      "o scientific description . As yet , however , the sperm whale , scientific or p\n",
      "IZONTAL TAIL . There you have him . However contracted , that definition is the\n",
      "several varieties , most of which , however , are little known . Broad - nosed \n"
     ]
    },
    {
     "name": "stdout",
     "output_type": "stream",
     "text": [
      "Displaying 9 of 9 matches:\n",
      " wise he judges it to fly from pain However , and to ' scape his punishment ! S\n",
      "truct his sight , Star interposed , however small he sees , Not unconformed to \n",
      "f into the Hell Thou fablest ; here however to dwell free , If not to reign : M\n",
      " back perverse : But that I doubt ; however witness , Heaven ! Heaven , witness\n",
      "the ways Of highest agents , deemed however wise . Queen of this universe ! do \n",
      "f scorn , not to be given the Foe . However I with thee have fixed my lot , Cer\n",
      "n my head both sin and punishment , However insupportable , be all Devolved ; t\n",
      "pride , and joy , for Man seduced . However , some tradition they dispersed Amo\n",
      " and to the hand of Heaven submit , However chastening ; to the evil turn My ob\n",
      "No matches\n",
      "No matches\n",
      "No matches\n",
      "Displaying 12 of 12 matches:\n",
      "like One including and over all , ( However high the head of any else that head\n",
      " . Allons ! we must not stop here , However sweet these laid - up stores , howe\n",
      "ever sweet these laid - up stores , however convenient this dwelling we cannot \n",
      "is dwelling we cannot remain here , However shelter ' d this port and however c\n",
      ", However shelter ' d this port and however calm these waters we must not ancho\n",
      "se waters we must not anchor here , However welcome the hospitality that surrou\n",
      "and pass it , To conceive no time , however distant , but what you may reach it\n",
      "ut it stretches and waits for you , however long but it stretches and waits for\n",
      " , planets , All distances of place however wide , All distances of time , all \n",
      "hou wouldst not really sell thyself however great the price , In that thou sure\n",
      "im recesses , Acknowledging rapport however far remov ' d , ( As some old root \n",
      "n to its divine source and origin , however distant , Latent the same in subjec\n"
     ]
    }
   ],
   "source": [
    "import nltk\n",
    "\"\"\"7. According to Strunk and White's Elements of Style, the word however, used at the start of a sentence, means \"in whatever way\" or \"to whatever extent\", and not \"nevertheless\". \n",
    "They give this example of correct usage: However you advise him, he will probably do as he thinks best. \n",
    "Use the concordance tool to study actual usage of this word in the various texts we have been considering. \"\"\"\n",
    "files = nltk.corpus.gutenberg.fileids()\n",
    "for f in files:\n",
    "    text = nltk.Text(nltk.corpus.gutenberg.words(f))\n",
    "    text.concordance(\"however\")"
   ]
  },
  {
   "cell_type": "code",
   "execution_count": 2,
   "metadata": {},
   "outputs": [
    {
     "data": {
      "text/plain": [
       "'9. Pick a pair of texts and study the differences between them, in terms of vocabulary, vocabulary richness, genre, etc. \\nCan you find pairs of words which have quite different meanings across the two texts, \\nsuch as monstrous in Moby Dick and in Sense and Sensibility?'"
      ]
     },
     "execution_count": 2,
     "metadata": {},
     "output_type": "execute_result"
    }
   ],
   "source": [
    "\"\"\"9. Pick a pair of texts and study the differences between them, in terms of vocabulary, vocabulary richness, genre, etc. \n",
    "Can you find pairs of words which have quite different meanings across the two texts, \n",
    "such as monstrous in Moby Dick and in Sense and Sensibility?\"\"\"\n"
   ]
  },
  {
   "cell_type": "code",
   "execution_count": 3,
   "metadata": {},
   "outputs": [
    {
     "data": {
      "text/plain": [
       "'12. The CMU Pronouncing Dictionary contains multiple pronunciations for certain words. \\nHow many distinct words does it contain? What fraction of words in this dictionary have more than one possible pronunciation?'"
      ]
     },
     "execution_count": 3,
     "metadata": {},
     "output_type": "execute_result"
    }
   ],
   "source": [
    "\"\"\"12. The CMU Pronouncing Dictionary contains multiple pronunciations for certain words. \n",
    "How many distinct words does it contain? What fraction of words in this dictionary have more than one possible pronunciation?\"\"\""
   ]
  },
  {
   "cell_type": "code",
   "execution_count": 5,
   "metadata": {},
   "outputs": [
    {
     "data": {
      "text/plain": [
       "\"13. What percentage of noun synsets have no hyponyms? You can get all noun synsets using wn.all_synsets('n').\""
      ]
     },
     "execution_count": 5,
     "metadata": {},
     "output_type": "execute_result"
    }
   ],
   "source": [
    "\"\"\"13. What percentage of noun synsets have no hyponyms? You can get all noun synsets using wn.all_synsets('n').\"\"\""
   ]
  },
  {
   "cell_type": "code",
   "execution_count": 6,
   "metadata": {},
   "outputs": [
    {
     "data": {
      "text/plain": [
       "'15. Write a program to find all words that occur at least three times in the Brown Corpus.'"
      ]
     },
     "execution_count": 6,
     "metadata": {},
     "output_type": "execute_result"
    }
   ],
   "source": [
    "\"\"\"15. Write a program to find all words that occur at least three times in the Brown Corpus.\"\"\""
   ]
  },
  {
   "cell_type": "code",
   "execution_count": 7,
   "metadata": {},
   "outputs": [
    {
     "data": {
      "text/plain": [
       "'17. Write a function that finds the 50 most frequently occurring words of a text that are not stopwords.'"
      ]
     },
     "execution_count": 7,
     "metadata": {},
     "output_type": "execute_result"
    }
   ],
   "source": [
    "\"\"\"17. Write a function that finds the 50 most frequently occurring words of a text that are not stopwords.\"\"\""
   ]
  },
  {
   "cell_type": "code",
   "execution_count": 8,
   "metadata": {},
   "outputs": [
    {
     "data": {
      "text/plain": [
       "'23. Zipf\\'s Law: Let f(w) be the frequency of a word w in free text. \\nSuppose that all the words of a text are ranked according to their frequency, with the most frequent word first. \\nZipf\\'s law states that the frequency of a word type is inversely proportional to its rank (i.e. f × r = k, for some constant k). For example, the 50th most common word type should occur three times as frequently as the 150th most common word type.\\n\\na. Write a function to process a large text and plot word frequency against word rank using pylab.plot. \\nDo you confirm Zipf\\'s law? (Hint: it helps to use a logarithmic scale). What is going on at the extreme ends of the plotted line?\\n\\nb. Generate random text, e.g., using random.choice(\"abcdefg \"), taking care to include the space character. \\nYou will need to import random first. Use the string concatenation operator to accumulate characters into a (very) long string. \\nThen tokenize this string, and generate the Zipf plot as before, and compare the two plots. \\nWhat do you make of Zipf\\'s Law in the light of this?'"
      ]
     },
     "execution_count": 8,
     "metadata": {},
     "output_type": "execute_result"
    }
   ],
   "source": [
    "\"\"\"23. Zipf's Law: Let f(w) be the frequency of a word w in free text. \n",
    "Suppose that all the words of a text are ranked according to their frequency, with the most frequent word first. \n",
    "Zipf's law states that the frequency of a word type is inversely proportional to its rank (i.e. f × r = k, for some constant k). For example, the 50th most common word type should occur three times as frequently as the 150th most common word type.\n",
    "\n",
    "a. Write a function to process a large text and plot word frequency against word rank using pylab.plot. \n",
    "Do you confirm Zipf's law? (Hint: it helps to use a logarithmic scale). What is going on at the extreme ends of the plotted line?\n",
    "\n",
    "b. Generate random text, e.g., using random.choice(\"abcdefg \"), taking care to include the space character. \n",
    "You will need to import random first. Use the string concatenation operator to accumulate characters into a (very) long string. \n",
    "Then tokenize this string, and generate the Zipf plot as before, and compare the two plots. \n",
    "What do you make of Zipf's Law in the light of this?\"\"\""
   ]
  },
  {
   "cell_type": "code",
   "execution_count": null,
   "metadata": {},
   "outputs": [],
   "source": [
    "\"\"\"26. What is the branching factor of the noun hypernym hierarchy? \n",
    "I.e. for every noun synset that has hyponyms — or children in the hypernym hierarchy — how many do they have on average? \n",
    "You can get all noun synsets using wn.all_synsets('n').\"\"\""
   ]
  }
 ],
 "metadata": {
  "kernelspec": {
   "display_name": "Python 3",
   "language": "python",
   "name": "python3"
  },
  "language_info": {
   "codemirror_mode": {
    "name": "ipython",
    "version": 3
   },
   "file_extension": ".py",
   "mimetype": "text/x-python",
   "name": "python",
   "nbconvert_exporter": "python",
   "pygments_lexer": "ipython3",
   "version": "3.6.4"
  }
 },
 "nbformat": 4,
 "nbformat_minor": 2
}
